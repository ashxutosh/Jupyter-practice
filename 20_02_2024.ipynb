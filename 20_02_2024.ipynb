{
 "cells": [
  {
   "cell_type": "code",
   "execution_count": 1,
   "id": "ef9f1def",
   "metadata": {},
   "outputs": [
    {
     "data": {
      "text/plain": [
       "[1, 2, 10, 4]"
      ]
     },
     "execution_count": 1,
     "metadata": {},
     "output_type": "execute_result"
    }
   ],
   "source": [
    "list1=[1,2,3,4]\n",
    "list1[2]=10\n",
    "list1"
   ]
  },
  {
   "cell_type": "code",
   "execution_count": 2,
   "id": "3345025c",
   "metadata": {},
   "outputs": [
    {
     "data": {
      "text/plain": [
       "[1, 2, 3, 4, 1, 2, 3, 4, 1, 2, 3, 4]"
      ]
     },
     "execution_count": 2,
     "metadata": {},
     "output_type": "execute_result"
    }
   ],
   "source": [
    "list1=[1,2,3,4]\n",
    "list1*3"
   ]
  },
  {
   "cell_type": "code",
   "execution_count": 3,
   "id": "39d5adf5",
   "metadata": {},
   "outputs": [
    {
     "data": {
      "text/plain": [
       "[1, 2, 3, 4, 3, 4, 5]"
      ]
     },
     "execution_count": 3,
     "metadata": {},
     "output_type": "execute_result"
    }
   ],
   "source": [
    "list1=[1,2,3,4]\n",
    "list2=[3,4,5]\n",
    "list1 + list2"
   ]
  },
  {
   "cell_type": "code",
   "execution_count": 4,
   "id": "09033a24",
   "metadata": {},
   "outputs": [
    {
     "data": {
      "text/plain": [
       "[1, 2, 3, 4, 7]"
      ]
     },
     "execution_count": 4,
     "metadata": {},
     "output_type": "execute_result"
    }
   ],
   "source": [
    "list1.append(7)\n",
    "list1\n"
   ]
  },
  {
   "cell_type": "code",
   "execution_count": 5,
   "id": "553b82e9",
   "metadata": {},
   "outputs": [],
   "source": [
    "list1.insert(1,19)"
   ]
  },
  {
   "cell_type": "code",
   "execution_count": 6,
   "id": "8bf10936",
   "metadata": {},
   "outputs": [
    {
     "data": {
      "text/plain": [
       "[1, 19, 2, 3, 4, 7]"
      ]
     },
     "execution_count": 6,
     "metadata": {},
     "output_type": "execute_result"
    }
   ],
   "source": [
    "list1"
   ]
  },
  {
   "cell_type": "code",
   "execution_count": 7,
   "id": "721ba5d6",
   "metadata": {},
   "outputs": [],
   "source": [
    "list1.extend([4,9,10])"
   ]
  },
  {
   "cell_type": "code",
   "execution_count": 8,
   "id": "dacb0355",
   "metadata": {},
   "outputs": [
    {
     "data": {
      "text/plain": [
       "[1, 19, 2, 3, 4, 7, 4, 9, 10]"
      ]
     },
     "execution_count": 8,
     "metadata": {},
     "output_type": "execute_result"
    }
   ],
   "source": [
    "list1"
   ]
  },
  {
   "cell_type": "code",
   "execution_count": 9,
   "id": "17edb204",
   "metadata": {},
   "outputs": [
    {
     "data": {
      "text/plain": [
       "7"
      ]
     },
     "execution_count": 9,
     "metadata": {},
     "output_type": "execute_result"
    }
   ],
   "source": [
    "list1.index(9)"
   ]
  },
  {
   "cell_type": "code",
   "execution_count": 3,
   "id": "e5d9ffd0",
   "metadata": {},
   "outputs": [
    {
     "data": {
      "text/plain": [
       "True"
      ]
     },
     "execution_count": 3,
     "metadata": {},
     "output_type": "execute_result"
    }
   ],
   "source": [
    "fruits=[\"Apple\",\"Banana\",\"Orange\",\"Kiwi\",\"Pineapple\"]\n",
    "\n",
    "\"Apple\" in fruits"
   ]
  },
  {
   "cell_type": "code",
   "execution_count": 4,
   "id": "082052a8",
   "metadata": {},
   "outputs": [
    {
     "name": "stdout",
     "output_type": "stream",
     "text": [
      "Enter the fruit name:Kiwi\n",
      "Your fruits is avaliable in shop no=4\n"
     ]
    }
   ],
   "source": [
    "fruits=[\"Apple\",\"Banana\",\"Orange\",\"Kiwi\",\"Pineapple\"]\n",
    "fruit_name=input(\"Enter the fruit name:\")\n",
    "\n",
    "shop_no=fruits.index(fruit_name) + 1\n",
    "\n",
    "print(\"Your fruits is avaliable in shop no={}\".format(shop_no))\n"
   ]
  },
  {
   "cell_type": "code",
   "execution_count": 5,
   "id": "85535a34",
   "metadata": {},
   "outputs": [
    {
     "name": "stdout",
     "output_type": "stream",
     "text": [
      "Enter the fruit name: Kiwi\n",
      "Your fruit, Kiwi, is available in shop no. 4.\n"
     ]
    }
   ],
   "source": [
    "fruits = [\"Apple\", \"Banana\", \"Orange\", \"Kiwi\", \"Pineapple\"]\n",
    "\n",
    "def find_fruit_availability(fruit_name):\n",
    "    \"\"\"\n",
    "    Searches the given list of fruits for the specified fruit and returns its shop number\n",
    "    if available, or otherwise indicates if it's not available.\n",
    "\n",
    "    Args:\n",
    "        fruit_name (str): The name of the fruit to search for.\n",
    "\n",
    "    Returns:\n",
    "        str: A message indicating whether the fruit is available and its shop number,\n",
    "              or a message if it's not available.\n",
    "    \"\"\"\n",
    "\n",
    "    try:\n",
    "        shop_no = fruits.index(fruit_name) + 1\n",
    "        return f\"Your fruit, {fruit_name}, is available in shop no. {shop_no}.\"\n",
    "    except ValueError:\n",
    "        return f\"Fruit, {fruit_name}, is not available in the shop.\"\n",
    "\n",
    "fruit_name = input(\"Enter the fruit name: \")\n",
    "result = find_fruit_availability(fruit_name)\n",
    "print(result)\n"
   ]
  },
  {
   "cell_type": "code",
   "execution_count": 6,
   "id": "c8a84dc6",
   "metadata": {},
   "outputs": [
    {
     "data": {
      "text/plain": [
       "[0, 1, 2, 3, 4, 5, 6, 7, 8, 9]"
      ]
     },
     "execution_count": 6,
     "metadata": {},
     "output_type": "execute_result"
    }
   ],
   "source": [
    "numoo=list(range(10))\n",
    "numoo"
   ]
  },
  {
   "cell_type": "code",
   "execution_count": 9,
   "id": "d8a323e9",
   "metadata": {},
   "outputs": [
    {
     "data": {
      "text/plain": [
       "[2, 3, 4, 5, 6, 7, 8, 9]"
      ]
     },
     "execution_count": 9,
     "metadata": {},
     "output_type": "execute_result"
    }
   ],
   "source": [
    "numo1=list(range(2,10))\n",
    "numo1"
   ]
  },
  {
   "cell_type": "markdown",
   "id": "adc2f207",
   "metadata": {},
   "source": []
  },
  {
   "cell_type": "code",
   "execution_count": 10,
   "id": "993035a6",
   "metadata": {},
   "outputs": [],
   "source": [
    "numo2=list(range(3,100,10))"
   ]
  },
  {
   "cell_type": "code",
   "execution_count": 11,
   "id": "dc9fe105",
   "metadata": {},
   "outputs": [
    {
     "data": {
      "text/plain": [
       "[3, 13, 23, 33, 43, 53, 63, 73, 83, 93]"
      ]
     },
     "execution_count": 11,
     "metadata": {},
     "output_type": "execute_result"
    }
   ],
   "source": [
    "numo2"
   ]
  },
  {
   "cell_type": "code",
   "execution_count": 9,
   "id": "22dbaa22",
   "metadata": {},
   "outputs": [
    {
     "name": "stdout",
     "output_type": "stream",
     "text": [
      "Apple, Banana, Orange, Kiwi, Pineapple, "
     ]
    }
   ],
   "source": [
    "for i in fruits:\n",
    "    print(i,end=\", \")"
   ]
  },
  {
   "cell_type": "code",
   "execution_count": 10,
   "id": "9b834af7",
   "metadata": {},
   "outputs": [
    {
     "name": "stdout",
     "output_type": "stream",
     "text": [
      "Username:Admin\n",
      "Enter your password:1234\n",
      "Log in complete\n"
     ]
    }
   ],
   "source": [
    "user=\"Admin\"\n",
    "password=\"1234\"\n",
    "\n",
    "users=input(\"Username:\")\n",
    "passwords=input(\"Enter your password:\")\n",
    "\n",
    "if user == users and password == passwords :\n",
    "    print(\"Log in complete\")\n",
    "else:\n",
    "    print(\"Register now.\")"
   ]
  },
  {
   "cell_type": "code",
   "execution_count": 12,
   "id": "3207416e",
   "metadata": {},
   "outputs": [
    {
     "name": "stdout",
     "output_type": "stream",
     "text": [
      "0\n",
      "1\n",
      "2\n",
      "3\n",
      "4\n",
      "5\n",
      "6\n",
      "7\n",
      "8\n",
      "9\n",
      "10\n"
     ]
    }
   ],
   "source": [
    "count=0\n",
    "while count <= 10:\n",
    "    print(count)\n",
    "    count+=1"
   ]
  },
  {
   "cell_type": "code",
   "execution_count": null,
   "id": "1e521069",
   "metadata": {},
   "outputs": [],
   "source": []
  }
 ],
 "metadata": {
  "kernelspec": {
   "display_name": "Python 3 (ipykernel)",
   "language": "python",
   "name": "python3"
  },
  "language_info": {
   "codemirror_mode": {
    "name": "ipython",
    "version": 3
   },
   "file_extension": ".py",
   "mimetype": "text/x-python",
   "name": "python",
   "nbconvert_exporter": "python",
   "pygments_lexer": "ipython3",
   "version": "3.11.4"
  }
 },
 "nbformat": 4,
 "nbformat_minor": 5
}
